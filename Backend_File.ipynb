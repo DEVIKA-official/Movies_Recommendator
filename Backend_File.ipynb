{
 "cells": [
  {
   "cell_type": "code",
   "execution_count": 3,
   "id": "fa339f69-43c0-4f8f-9113-249e7e2907c6",
   "metadata": {},
   "outputs": [
    {
     "name": "stdout",
     "output_type": "stream",
     "text": [
      "Requirement already satisfied: pandas in d:\\anaconda_installed\\envs\\devikaenv\\lib\\site-packages (2.2.2)\n",
      "Requirement already satisfied: openpyxl in d:\\anaconda_installed\\envs\\devikaenv\\lib\\site-packages (3.1.4)\n",
      "Requirement already satisfied: numpy>=1.22.4 in d:\\anaconda_installed\\envs\\devikaenv\\lib\\site-packages (from pandas) (1.26.4)\n",
      "Requirement already satisfied: python-dateutil>=2.8.2 in d:\\anaconda_installed\\envs\\devikaenv\\lib\\site-packages (from pandas) (2.9.0.post0)\n",
      "Requirement already satisfied: pytz>=2020.1 in d:\\anaconda_installed\\envs\\devikaenv\\lib\\site-packages (from pandas) (2024.1)\n",
      "Requirement already satisfied: tzdata>=2022.7 in d:\\anaconda_installed\\envs\\devikaenv\\lib\\site-packages (from pandas) (2024.1)\n",
      "Requirement already satisfied: et-xmlfile in d:\\anaconda_installed\\envs\\devikaenv\\lib\\site-packages (from openpyxl) (1.1.0)\n",
      "Requirement already satisfied: six>=1.5 in d:\\anaconda_installed\\envs\\devikaenv\\lib\\site-packages (from python-dateutil>=2.8.2->pandas) (1.16.0)\n"
     ]
    }
   ],
   "source": [
    "!pip install pandas openpyxl\n"
   ]
  },
  {
   "cell_type": "code",
   "execution_count": 4,
   "id": "d397de11-67d7-4138-bcf4-17d0c2654cb7",
   "metadata": {},
   "outputs": [
    {
     "data": {
      "text/html": [
       "<div>\n",
       "<style scoped>\n",
       "    .dataframe tbody tr th:only-of-type {\n",
       "        vertical-align: middle;\n",
       "    }\n",
       "\n",
       "    .dataframe tbody tr th {\n",
       "        vertical-align: top;\n",
       "    }\n",
       "\n",
       "    .dataframe thead th {\n",
       "        text-align: right;\n",
       "    }\n",
       "</style>\n",
       "<table border=\"1\" class=\"dataframe\">\n",
       "  <thead>\n",
       "    <tr style=\"text-align: right;\">\n",
       "      <th></th>\n",
       "      <th>Title</th>\n",
       "      <th>Genre</th>\n",
       "      <th>Director</th>\n",
       "      <th>Producer</th>\n",
       "      <th>Actors</th>\n",
       "      <th>Release</th>\n",
       "    </tr>\n",
       "  </thead>\n",
       "  <tbody>\n",
       "    <tr>\n",
       "      <th>0</th>\n",
       "      <td>Veerey Ki Wedding</td>\n",
       "      <td>Drama</td>\n",
       "      <td>Zoya Akhtar</td>\n",
       "      <td>Rajat Bakshi</td>\n",
       "      <td>Pulkit Samrat, Kriti Kharbanda</td>\n",
       "      <td>NaN</td>\n",
       "    </tr>\n",
       "    <tr>\n",
       "      <th>1</th>\n",
       "      <td>1920</td>\n",
       "      <td>Horror, Mystery, Supernatural,Thriller</td>\n",
       "      <td>Vikram Bhatt</td>\n",
       "      <td>Vikram Bhatt</td>\n",
       "      <td>Rajneesh Duggal, Adah Sharma</td>\n",
       "      <td>2008</td>\n",
       "    </tr>\n",
       "    <tr>\n",
       "      <th>2</th>\n",
       "      <td>1921</td>\n",
       "      <td>Horror, Mystery, Supernatural,Thriller</td>\n",
       "      <td>Vikram Bhatt</td>\n",
       "      <td>Vikram Bhatt</td>\n",
       "      <td>Zareen Khan , Karan Kundrra</td>\n",
       "      <td>2018</td>\n",
       "    </tr>\n",
       "    <tr>\n",
       "      <th>3</th>\n",
       "      <td>Singh Vs Kaur</td>\n",
       "      <td>Romantic Comedy , Action , Drama</td>\n",
       "      <td>Navanjat Singh</td>\n",
       "      <td>Dheeraj Rattan</td>\n",
       "      <td>Gippy Grewal,Surveen Chawla</td>\n",
       "      <td>2013</td>\n",
       "    </tr>\n",
       "    <tr>\n",
       "      <th>4</th>\n",
       "      <td>12th Fail</td>\n",
       "      <td>Biographical,</td>\n",
       "      <td>Vidhu Vinod Chopra</td>\n",
       "      <td>Vidhu Vinod Chopra</td>\n",
       "      <td>Vikrant Massey , Medha Shankr</td>\n",
       "      <td>2023</td>\n",
       "    </tr>\n",
       "    <tr>\n",
       "      <th>...</th>\n",
       "      <td>...</td>\n",
       "      <td>...</td>\n",
       "      <td>...</td>\n",
       "      <td>...</td>\n",
       "      <td>...</td>\n",
       "      <td>...</td>\n",
       "    </tr>\n",
       "    <tr>\n",
       "      <th>95</th>\n",
       "      <td>Holiday</td>\n",
       "      <td>Army,Action,Detective,Mystery,Thriller</td>\n",
       "      <td>A.R. Murugadoss</td>\n",
       "      <td>Vipul Amrutlal Shah</td>\n",
       "      <td>Akshay Kumar, Sonakshi Sinha, Freddy Daruwala</td>\n",
       "      <td>NaN</td>\n",
       "    </tr>\n",
       "    <tr>\n",
       "      <th>96</th>\n",
       "      <td>Honeymoon</td>\n",
       "      <td>Comedy,Romance,Marriage,Family,Trip</td>\n",
       "      <td>Amaar Hundal</td>\n",
       "      <td>Krishan Kumar, Divya Khosla Kumar</td>\n",
       "      <td>Amisha Patel, Boman Irani , Abhay Deol , Dia M...</td>\n",
       "      <td>NaN</td>\n",
       "    </tr>\n",
       "    <tr>\n",
       "      <th>97</th>\n",
       "      <td>Houseful</td>\n",
       "      <td>Comedy , Drama , Adventure,Family</td>\n",
       "      <td>Sajid Khan</td>\n",
       "      <td>Sajid Nadiadwala</td>\n",
       "      <td>Akshay Kumar, Riteish Deshmukh, Deepika Paduko...</td>\n",
       "      <td>NaN</td>\n",
       "    </tr>\n",
       "    <tr>\n",
       "      <th>98</th>\n",
       "      <td>Hum Aapke Hain Koun !</td>\n",
       "      <td>Family,Romance,Comedy,Drama</td>\n",
       "      <td>Sooraj Barjatya</td>\n",
       "      <td>Rajshri Productions</td>\n",
       "      <td>Salman Khan, Madhuri Dixit</td>\n",
       "      <td>NaN</td>\n",
       "    </tr>\n",
       "    <tr>\n",
       "      <th>99</th>\n",
       "      <td>Hum -Tum</td>\n",
       "      <td>Romantic_Comedy,Drama</td>\n",
       "      <td>Kunal Kohli</td>\n",
       "      <td>Aditya Chopra</td>\n",
       "      <td>Saif Ali Khan, Rani Mukerji</td>\n",
       "      <td>NaN</td>\n",
       "    </tr>\n",
       "  </tbody>\n",
       "</table>\n",
       "<p>100 rows × 6 columns</p>\n",
       "</div>"
      ],
      "text/plain": [
       "                    Title                                  Genre   \\\n",
       "0      Veerey Ki Wedding                                    Drama   \n",
       "1                    1920  Horror, Mystery, Supernatural,Thriller   \n",
       "2                    1921  Horror, Mystery, Supernatural,Thriller   \n",
       "3          Singh Vs Kaur        Romantic Comedy , Action , Drama    \n",
       "4               12th Fail                           Biographical,   \n",
       "..                    ...                                     ...   \n",
       "95               Holiday   Army,Action,Detective,Mystery,Thriller   \n",
       "96              Honeymoon     Comedy,Romance,Marriage,Family,Trip   \n",
       "97               Houseful       Comedy , Drama , Adventure,Family   \n",
       "98  Hum Aapke Hain Koun !             Family,Romance,Comedy,Drama   \n",
       "99               Hum -Tum                   Romantic_Comedy,Drama   \n",
       "\n",
       "             Director                            Producer  \\\n",
       "0          Zoya Akhtar                       Rajat Bakshi   \n",
       "1        Vikram Bhatt                       Vikram Bhatt    \n",
       "2        Vikram Bhatt                       Vikram Bhatt    \n",
       "3      Navanjat Singh                     Dheeraj Rattan    \n",
       "4   Vidhu Vinod Chopra                 Vidhu Vinod Chopra   \n",
       "..                 ...                                ...   \n",
       "95     A.R. Murugadoss                Vipul Amrutlal Shah   \n",
       "96        Amaar Hundal  Krishan Kumar, Divya Khosla Kumar   \n",
       "97          Sajid Khan                   Sajid Nadiadwala   \n",
       "98     Sooraj Barjatya                Rajshri Productions   \n",
       "99         Kunal Kohli                      Aditya Chopra   \n",
       "\n",
       "                                               Actors Release   \n",
       "0                      Pulkit Samrat, Kriti Kharbanda      NaN  \n",
       "1                        Rajneesh Duggal, Adah Sharma     2008  \n",
       "2                         Zareen Khan , Karan Kundrra     2018  \n",
       "3                        Gippy Grewal,Surveen Chawla      2013  \n",
       "4                       Vikrant Massey , Medha Shankr     2023  \n",
       "..                                                ...      ...  \n",
       "95      Akshay Kumar, Sonakshi Sinha, Freddy Daruwala      NaN  \n",
       "96  Amisha Patel, Boman Irani , Abhay Deol , Dia M...      NaN  \n",
       "97  Akshay Kumar, Riteish Deshmukh, Deepika Paduko...      NaN  \n",
       "98                         Salman Khan, Madhuri Dixit      NaN  \n",
       "99                        Saif Ali Khan, Rani Mukerji      NaN  \n",
       "\n",
       "[100 rows x 6 columns]"
      ]
     },
     "execution_count": 4,
     "metadata": {},
     "output_type": "execute_result"
    }
   ],
   "source": [
    "import pandas as pd\n",
    "\n",
    "# If the file is in the same directory as the notebook\n",
    "file_path = 'Movies_List_Project.xlsx'\n",
    "\n",
    "# Read the Excel file\n",
    "movies = pd.read_excel(file_path)\n",
    "\n",
    "# Display the first few rows of the dataframe\n",
    "movies.head(100)\n"
   ]
  },
  {
   "cell_type": "code",
   "execution_count": 5,
   "id": "e638924c-806a-4585-9135-782b3ed4c5af",
   "metadata": {},
   "outputs": [
    {
     "data": {
      "text/html": [
       "<div>\n",
       "<style scoped>\n",
       "    .dataframe tbody tr th:only-of-type {\n",
       "        vertical-align: middle;\n",
       "    }\n",
       "\n",
       "    .dataframe tbody tr th {\n",
       "        vertical-align: top;\n",
       "    }\n",
       "\n",
       "    .dataframe thead th {\n",
       "        text-align: right;\n",
       "    }\n",
       "</style>\n",
       "<table border=\"1\" class=\"dataframe\">\n",
       "  <thead>\n",
       "    <tr style=\"text-align: right;\">\n",
       "      <th></th>\n",
       "      <th>Title</th>\n",
       "      <th>Genre</th>\n",
       "      <th>Director</th>\n",
       "      <th>Producer</th>\n",
       "      <th>Actors</th>\n",
       "      <th>Release</th>\n",
       "    </tr>\n",
       "  </thead>\n",
       "  <tbody>\n",
       "    <tr>\n",
       "      <th>0</th>\n",
       "      <td>Veerey Ki Wedding</td>\n",
       "      <td>Drama</td>\n",
       "      <td>Zoya Akhtar</td>\n",
       "      <td>Rajat Bakshi</td>\n",
       "      <td>Pulkit Samrat, Kriti Kharbanda</td>\n",
       "      <td>NaN</td>\n",
       "    </tr>\n",
       "    <tr>\n",
       "      <th>1</th>\n",
       "      <td>1920</td>\n",
       "      <td>Horror, Mystery, Supernatural,Thriller</td>\n",
       "      <td>Vikram Bhatt</td>\n",
       "      <td>Vikram Bhatt</td>\n",
       "      <td>Rajneesh Duggal, Adah Sharma</td>\n",
       "      <td>2008</td>\n",
       "    </tr>\n",
       "    <tr>\n",
       "      <th>2</th>\n",
       "      <td>1921</td>\n",
       "      <td>Horror, Mystery, Supernatural,Thriller</td>\n",
       "      <td>Vikram Bhatt</td>\n",
       "      <td>Vikram Bhatt</td>\n",
       "      <td>Zareen Khan , Karan Kundrra</td>\n",
       "      <td>2018</td>\n",
       "    </tr>\n",
       "    <tr>\n",
       "      <th>3</th>\n",
       "      <td>Singh Vs Kaur</td>\n",
       "      <td>Romantic Comedy , Action , Drama</td>\n",
       "      <td>Navanjat Singh</td>\n",
       "      <td>Dheeraj Rattan</td>\n",
       "      <td>Gippy Grewal,Surveen Chawla</td>\n",
       "      <td>2013</td>\n",
       "    </tr>\n",
       "    <tr>\n",
       "      <th>4</th>\n",
       "      <td>12th Fail</td>\n",
       "      <td>Biographical,</td>\n",
       "      <td>Vidhu Vinod Chopra</td>\n",
       "      <td>Vidhu Vinod Chopra</td>\n",
       "      <td>Vikrant Massey , Medha Shankr</td>\n",
       "      <td>2023</td>\n",
       "    </tr>\n",
       "    <tr>\n",
       "      <th>...</th>\n",
       "      <td>...</td>\n",
       "      <td>...</td>\n",
       "      <td>...</td>\n",
       "      <td>...</td>\n",
       "      <td>...</td>\n",
       "      <td>...</td>\n",
       "    </tr>\n",
       "    <tr>\n",
       "      <th>252</th>\n",
       "      <td>ZERO</td>\n",
       "      <td>Drama</td>\n",
       "      <td>Laxman Utekar</td>\n",
       "      <td>Gauri Khan, Red Chillies Entertainment</td>\n",
       "      <td>Shah Rukh Khan, Anushka Sharma, Katrina Kaif</td>\n",
       "      <td>NaN</td>\n",
       "    </tr>\n",
       "    <tr>\n",
       "      <th>253</th>\n",
       "      <td>Zindagi Na Milegi Dobara</td>\n",
       "      <td>Drama</td>\n",
       "      <td>Aanand L. Rai</td>\n",
       "      <td>Farhan Akhtar, Ritesh Sidhwani</td>\n",
       "      <td>Hrithik Roshan, Farhan Akhtar, Abhay Deol</td>\n",
       "      <td>NaN</td>\n",
       "    </tr>\n",
       "    <tr>\n",
       "      <th>254</th>\n",
       "      <td>NaN</td>\n",
       "      <td>NaN</td>\n",
       "      <td>NaN</td>\n",
       "      <td>NaN</td>\n",
       "      <td>NaN</td>\n",
       "      <td>NaN</td>\n",
       "    </tr>\n",
       "    <tr>\n",
       "      <th>255</th>\n",
       "      <td>NaN</td>\n",
       "      <td>NaN</td>\n",
       "      <td></td>\n",
       "      <td>NaN</td>\n",
       "      <td>NaN</td>\n",
       "      <td>NaN</td>\n",
       "    </tr>\n",
       "    <tr>\n",
       "      <th>256</th>\n",
       "      <td>NaN</td>\n",
       "      <td>NaN</td>\n",
       "      <td>NaN</td>\n",
       "      <td></td>\n",
       "      <td>NaN</td>\n",
       "      <td>NaN</td>\n",
       "    </tr>\n",
       "  </tbody>\n",
       "</table>\n",
       "<p>257 rows × 6 columns</p>\n",
       "</div>"
      ],
      "text/plain": [
       "                         Title                                  Genre   \\\n",
       "0           Veerey Ki Wedding                                    Drama   \n",
       "1                         1920  Horror, Mystery, Supernatural,Thriller   \n",
       "2                         1921  Horror, Mystery, Supernatural,Thriller   \n",
       "3               Singh Vs Kaur        Romantic Comedy , Action , Drama    \n",
       "4                    12th Fail                           Biographical,   \n",
       "..                         ...                                     ...   \n",
       "252                       ZERO                                   Drama   \n",
       "253  Zindagi Na Milegi Dobara                                    Drama   \n",
       "254                        NaN                                     NaN   \n",
       "255                        NaN                                     NaN   \n",
       "256                        NaN                                     NaN   \n",
       "\n",
       "              Director                                 Producer  \\\n",
       "0           Zoya Akhtar                            Rajat Bakshi   \n",
       "1         Vikram Bhatt                            Vikram Bhatt    \n",
       "2         Vikram Bhatt                            Vikram Bhatt    \n",
       "3       Navanjat Singh                          Dheeraj Rattan    \n",
       "4    Vidhu Vinod Chopra                      Vidhu Vinod Chopra   \n",
       "..                  ...                                     ...   \n",
       "252       Laxman Utekar  Gauri Khan, Red Chillies Entertainment   \n",
       "253       Aanand L. Rai          Farhan Akhtar, Ritesh Sidhwani   \n",
       "254                 NaN                                     NaN   \n",
       "255                                                         NaN   \n",
       "256                 NaN                                           \n",
       "\n",
       "                                           Actors Release   \n",
       "0                  Pulkit Samrat, Kriti Kharbanda      NaN  \n",
       "1                    Rajneesh Duggal, Adah Sharma     2008  \n",
       "2                     Zareen Khan , Karan Kundrra     2018  \n",
       "3                    Gippy Grewal,Surveen Chawla      2013  \n",
       "4                   Vikrant Massey , Medha Shankr     2023  \n",
       "..                                            ...      ...  \n",
       "252  Shah Rukh Khan, Anushka Sharma, Katrina Kaif      NaN  \n",
       "253     Hrithik Roshan, Farhan Akhtar, Abhay Deol      NaN  \n",
       "254                                           NaN      NaN  \n",
       "255                                           NaN      NaN  \n",
       "256                                           NaN      NaN  \n",
       "\n",
       "[257 rows x 6 columns]"
      ]
     },
     "execution_count": 5,
     "metadata": {},
     "output_type": "execute_result"
    }
   ],
   "source": [
    "movies\n"
   ]
  },
  {
   "cell_type": "code",
   "execution_count": 6,
   "id": "665dd1c4-4a92-4840-acd8-f094ba2a0d33",
   "metadata": {},
   "outputs": [
    {
     "name": "stdout",
     "output_type": "stream",
     "text": [
      "Index(['Title', 'Genre ', 'Director ', 'Producer', 'Actors', 'Release '], dtype='object')\n"
     ]
    }
   ],
   "source": [
    "print(movies.columns)\n"
   ]
  },
  {
   "cell_type": "code",
   "execution_count": 7,
   "id": "e5d36682-6036-427e-97a4-ea521421ec67",
   "metadata": {},
   "outputs": [
    {
     "name": "stdout",
     "output_type": "stream",
     "text": [
      "Index 0: 'Title'\n",
      "Index 1: 'Genre '\n",
      "Index 2: 'Director '\n",
      "Index 3: 'Producer'\n",
      "Index 4: 'Actors'\n",
      "Index 5: 'Release '\n"
     ]
    }
   ],
   "source": [
    "for i, col in enumerate(movies.columns):\n",
    "    print(f\"Index {i}: '{col}'\")"
   ]
  },
  {
   "cell_type": "code",
   "execution_count": 8,
   "id": "22e7585a-b347-45eb-8562-954301e25790",
   "metadata": {},
   "outputs": [],
   "source": [
    "movies.columns = movies.columns.str.strip()"
   ]
  },
  {
   "cell_type": "code",
   "execution_count": 9,
   "id": "6768d10e-26fb-4bb4-b512-8e0c5a87b47e",
   "metadata": {},
   "outputs": [
    {
     "name": "stdout",
     "output_type": "stream",
     "text": [
      "0             Veerey Ki Wedding \n",
      "1                           1920\n",
      "2                           1921\n",
      "3                 Singh Vs Kaur \n",
      "4                      12th Fail\n",
      "                 ...            \n",
      "252                         ZERO\n",
      "253    Zindagi Na Milegi Dobara \n",
      "254                          NaN\n",
      "255                          NaN\n",
      "256                          NaN\n",
      "Name: Title, Length: 257, dtype: object\n"
     ]
    }
   ],
   "source": [
    "print(movies['Title'])"
   ]
  },
  {
   "cell_type": "code",
   "execution_count": 10,
   "id": "e3861b4b-e5ce-4941-9a50-3e44ae2cac17",
   "metadata": {},
   "outputs": [],
   "source": [
    "# Replace NaN values with an empty string\n",
    "movies = movies.fillna('')\n",
    "\n",
    "# Convert all columns to strings\n",
    "movies['Title'] = movies['Title'].astype(str)\n",
    "movies['Genre'] = movies['Genre'].astype(str)\n",
    "movies['Director'] = movies['Director'].astype(str)\n",
    "movies['Producer'] = movies['Producer'].astype(str)\n",
    "movies['Actors'] = movies['Actors'].astype(str)\n",
    "movies['Release'] = movies['Release'].astype(str)\n",
    "\n",
    "# Concatenate the columns into a new 'tags' column\n",
    "movies['tags'] = movies['Title'] + ' ' + movies['Genre'] + ' ' + movies['Director'] + ' ' + movies['Producer'] + ' ' + movies['Actors'] + ' ' + movies['Release']\n"
   ]
  },
  {
   "cell_type": "code",
   "execution_count": 11,
   "id": "fe200227-473c-4d25-a53f-52c399d33318",
   "metadata": {},
   "outputs": [],
   "source": [
    "movies['tags'] = movies['Title'] + ' ' + movies['Genre'] + ' ' + movies['Director'] + ' ' + movies['Producer'] + ' ' + movies['Actors'] + ' ' + movies['Release']"
   ]
  },
  {
   "cell_type": "code",
   "execution_count": 12,
   "id": "b30dcf13-95f3-4bfd-8477-44b436855860",
   "metadata": {},
   "outputs": [
    {
     "data": {
      "text/html": [
       "<div>\n",
       "<style scoped>\n",
       "    .dataframe tbody tr th:only-of-type {\n",
       "        vertical-align: middle;\n",
       "    }\n",
       "\n",
       "    .dataframe tbody tr th {\n",
       "        vertical-align: top;\n",
       "    }\n",
       "\n",
       "    .dataframe thead th {\n",
       "        text-align: right;\n",
       "    }\n",
       "</style>\n",
       "<table border=\"1\" class=\"dataframe\">\n",
       "  <thead>\n",
       "    <tr style=\"text-align: right;\">\n",
       "      <th></th>\n",
       "      <th>Title</th>\n",
       "      <th>Genre</th>\n",
       "      <th>Director</th>\n",
       "      <th>Producer</th>\n",
       "      <th>Actors</th>\n",
       "      <th>Release</th>\n",
       "      <th>tags</th>\n",
       "    </tr>\n",
       "  </thead>\n",
       "  <tbody>\n",
       "    <tr>\n",
       "      <th>0</th>\n",
       "      <td>Veerey Ki Wedding</td>\n",
       "      <td>Drama</td>\n",
       "      <td>Zoya Akhtar</td>\n",
       "      <td>Rajat Bakshi</td>\n",
       "      <td>Pulkit Samrat, Kriti Kharbanda</td>\n",
       "      <td></td>\n",
       "      <td>Veerey Ki Wedding  Drama Zoya Akhtar Rajat Bak...</td>\n",
       "    </tr>\n",
       "    <tr>\n",
       "      <th>1</th>\n",
       "      <td>1920</td>\n",
       "      <td>Horror, Mystery, Supernatural,Thriller</td>\n",
       "      <td>Vikram Bhatt</td>\n",
       "      <td>Vikram Bhatt</td>\n",
       "      <td>Rajneesh Duggal, Adah Sharma</td>\n",
       "      <td>2008</td>\n",
       "      <td>1920 Horror, Mystery, Supernatural,Thriller Vi...</td>\n",
       "    </tr>\n",
       "    <tr>\n",
       "      <th>2</th>\n",
       "      <td>1921</td>\n",
       "      <td>Horror, Mystery, Supernatural,Thriller</td>\n",
       "      <td>Vikram Bhatt</td>\n",
       "      <td>Vikram Bhatt</td>\n",
       "      <td>Zareen Khan , Karan Kundrra</td>\n",
       "      <td>2018</td>\n",
       "      <td>1921 Horror, Mystery, Supernatural,Thriller Vi...</td>\n",
       "    </tr>\n",
       "    <tr>\n",
       "      <th>3</th>\n",
       "      <td>Singh Vs Kaur</td>\n",
       "      <td>Romantic Comedy , Action , Drama</td>\n",
       "      <td>Navanjat Singh</td>\n",
       "      <td>Dheeraj Rattan</td>\n",
       "      <td>Gippy Grewal,Surveen Chawla</td>\n",
       "      <td>2013</td>\n",
       "      <td>Singh Vs Kaur  Romantic Comedy , Action , Dra...</td>\n",
       "    </tr>\n",
       "    <tr>\n",
       "      <th>4</th>\n",
       "      <td>12th Fail</td>\n",
       "      <td>Biographical,</td>\n",
       "      <td>Vidhu Vinod Chopra</td>\n",
       "      <td>Vidhu Vinod Chopra</td>\n",
       "      <td>Vikrant Massey , Medha Shankr</td>\n",
       "      <td>2023</td>\n",
       "      <td>12th Fail Biographical, Vidhu Vinod Chopra Vid...</td>\n",
       "    </tr>\n",
       "    <tr>\n",
       "      <th>...</th>\n",
       "      <td>...</td>\n",
       "      <td>...</td>\n",
       "      <td>...</td>\n",
       "      <td>...</td>\n",
       "      <td>...</td>\n",
       "      <td>...</td>\n",
       "      <td>...</td>\n",
       "    </tr>\n",
       "    <tr>\n",
       "      <th>95</th>\n",
       "      <td>Holiday</td>\n",
       "      <td>Army,Action,Detective,Mystery,Thriller</td>\n",
       "      <td>A.R. Murugadoss</td>\n",
       "      <td>Vipul Amrutlal Shah</td>\n",
       "      <td>Akshay Kumar, Sonakshi Sinha, Freddy Daruwala</td>\n",
       "      <td></td>\n",
       "      <td>Holiday  Army,Action,Detective,Mystery,Thrille...</td>\n",
       "    </tr>\n",
       "    <tr>\n",
       "      <th>96</th>\n",
       "      <td>Honeymoon</td>\n",
       "      <td>Comedy,Romance,Marriage,Family,Trip</td>\n",
       "      <td>Amaar Hundal</td>\n",
       "      <td>Krishan Kumar, Divya Khosla Kumar</td>\n",
       "      <td>Amisha Patel, Boman Irani , Abhay Deol , Dia M...</td>\n",
       "      <td></td>\n",
       "      <td>Honeymoon Comedy,Romance,Marriage,Family,Trip ...</td>\n",
       "    </tr>\n",
       "    <tr>\n",
       "      <th>97</th>\n",
       "      <td>Houseful</td>\n",
       "      <td>Comedy , Drama , Adventure,Family</td>\n",
       "      <td>Sajid Khan</td>\n",
       "      <td>Sajid Nadiadwala</td>\n",
       "      <td>Akshay Kumar, Riteish Deshmukh, Deepika Paduko...</td>\n",
       "      <td></td>\n",
       "      <td>Houseful Comedy , Drama , Adventure,Family Saj...</td>\n",
       "    </tr>\n",
       "    <tr>\n",
       "      <th>98</th>\n",
       "      <td>Hum Aapke Hain Koun !</td>\n",
       "      <td>Family,Romance,Comedy,Drama</td>\n",
       "      <td>Sooraj Barjatya</td>\n",
       "      <td>Rajshri Productions</td>\n",
       "      <td>Salman Khan, Madhuri Dixit</td>\n",
       "      <td></td>\n",
       "      <td>Hum Aapke Hain Koun ! Family,Romance,Comedy,Dr...</td>\n",
       "    </tr>\n",
       "    <tr>\n",
       "      <th>99</th>\n",
       "      <td>Hum -Tum</td>\n",
       "      <td>Romantic_Comedy,Drama</td>\n",
       "      <td>Kunal Kohli</td>\n",
       "      <td>Aditya Chopra</td>\n",
       "      <td>Saif Ali Khan, Rani Mukerji</td>\n",
       "      <td></td>\n",
       "      <td>Hum -Tum Romantic_Comedy,Drama Kunal Kohli Adi...</td>\n",
       "    </tr>\n",
       "  </tbody>\n",
       "</table>\n",
       "<p>100 rows × 7 columns</p>\n",
       "</div>"
      ],
      "text/plain": [
       "                    Title                                   Genre  \\\n",
       "0      Veerey Ki Wedding                                    Drama   \n",
       "1                    1920  Horror, Mystery, Supernatural,Thriller   \n",
       "2                    1921  Horror, Mystery, Supernatural,Thriller   \n",
       "3          Singh Vs Kaur        Romantic Comedy , Action , Drama    \n",
       "4               12th Fail                           Biographical,   \n",
       "..                    ...                                     ...   \n",
       "95               Holiday   Army,Action,Detective,Mystery,Thriller   \n",
       "96              Honeymoon     Comedy,Romance,Marriage,Family,Trip   \n",
       "97               Houseful       Comedy , Drama , Adventure,Family   \n",
       "98  Hum Aapke Hain Koun !             Family,Romance,Comedy,Drama   \n",
       "99               Hum -Tum                   Romantic_Comedy,Drama   \n",
       "\n",
       "              Director                           Producer  \\\n",
       "0          Zoya Akhtar                       Rajat Bakshi   \n",
       "1        Vikram Bhatt                       Vikram Bhatt    \n",
       "2        Vikram Bhatt                       Vikram Bhatt    \n",
       "3      Navanjat Singh                     Dheeraj Rattan    \n",
       "4   Vidhu Vinod Chopra                 Vidhu Vinod Chopra   \n",
       "..                 ...                                ...   \n",
       "95     A.R. Murugadoss                Vipul Amrutlal Shah   \n",
       "96        Amaar Hundal  Krishan Kumar, Divya Khosla Kumar   \n",
       "97          Sajid Khan                   Sajid Nadiadwala   \n",
       "98     Sooraj Barjatya                Rajshri Productions   \n",
       "99         Kunal Kohli                      Aditya Chopra   \n",
       "\n",
       "                                               Actors Release  \\\n",
       "0                      Pulkit Samrat, Kriti Kharbanda           \n",
       "1                        Rajneesh Duggal, Adah Sharma    2008   \n",
       "2                         Zareen Khan , Karan Kundrra    2018   \n",
       "3                        Gippy Grewal,Surveen Chawla     2013   \n",
       "4                       Vikrant Massey , Medha Shankr    2023   \n",
       "..                                                ...     ...   \n",
       "95      Akshay Kumar, Sonakshi Sinha, Freddy Daruwala           \n",
       "96  Amisha Patel, Boman Irani , Abhay Deol , Dia M...           \n",
       "97  Akshay Kumar, Riteish Deshmukh, Deepika Paduko...           \n",
       "98                         Salman Khan, Madhuri Dixit           \n",
       "99                        Saif Ali Khan, Rani Mukerji           \n",
       "\n",
       "                                                 tags  \n",
       "0   Veerey Ki Wedding  Drama Zoya Akhtar Rajat Bak...  \n",
       "1   1920 Horror, Mystery, Supernatural,Thriller Vi...  \n",
       "2   1921 Horror, Mystery, Supernatural,Thriller Vi...  \n",
       "3    Singh Vs Kaur  Romantic Comedy , Action , Dra...  \n",
       "4   12th Fail Biographical, Vidhu Vinod Chopra Vid...  \n",
       "..                                                ...  \n",
       "95  Holiday  Army,Action,Detective,Mystery,Thrille...  \n",
       "96  Honeymoon Comedy,Romance,Marriage,Family,Trip ...  \n",
       "97  Houseful Comedy , Drama , Adventure,Family Saj...  \n",
       "98  Hum Aapke Hain Koun ! Family,Romance,Comedy,Dr...  \n",
       "99  Hum -Tum Romantic_Comedy,Drama Kunal Kohli Adi...  \n",
       "\n",
       "[100 rows x 7 columns]"
      ]
     },
     "execution_count": 12,
     "metadata": {},
     "output_type": "execute_result"
    }
   ],
   "source": [
    "movies.head(100)"
   ]
  },
  {
   "cell_type": "code",
   "execution_count": 13,
   "id": "d3063b5b-fbee-4b60-b58b-0345d9109c16",
   "metadata": {},
   "outputs": [
    {
     "data": {
      "text/html": [
       "<div>\n",
       "<style scoped>\n",
       "    .dataframe tbody tr th:only-of-type {\n",
       "        vertical-align: middle;\n",
       "    }\n",
       "\n",
       "    .dataframe tbody tr th {\n",
       "        vertical-align: top;\n",
       "    }\n",
       "\n",
       "    .dataframe thead th {\n",
       "        text-align: right;\n",
       "    }\n",
       "</style>\n",
       "<table border=\"1\" class=\"dataframe\">\n",
       "  <thead>\n",
       "    <tr style=\"text-align: right;\">\n",
       "      <th></th>\n",
       "      <th>Title</th>\n",
       "      <th>Genre</th>\n",
       "      <th>Director</th>\n",
       "      <th>Producer</th>\n",
       "      <th>Actors</th>\n",
       "      <th>Release</th>\n",
       "      <th>tags</th>\n",
       "    </tr>\n",
       "  </thead>\n",
       "  <tbody>\n",
       "    <tr>\n",
       "      <th>0</th>\n",
       "      <td>Veerey Ki Wedding</td>\n",
       "      <td>Drama</td>\n",
       "      <td>Zoya Akhtar</td>\n",
       "      <td>Rajat Bakshi</td>\n",
       "      <td>Pulkit Samrat, Kriti Kharbanda</td>\n",
       "      <td></td>\n",
       "      <td>Veerey Ki Wedding  Drama Zoya Akhtar Rajat Bak...</td>\n",
       "    </tr>\n",
       "    <tr>\n",
       "      <th>1</th>\n",
       "      <td>1920</td>\n",
       "      <td>Horror, Mystery, Supernatural,Thriller</td>\n",
       "      <td>Vikram Bhatt</td>\n",
       "      <td>Vikram Bhatt</td>\n",
       "      <td>Rajneesh Duggal, Adah Sharma</td>\n",
       "      <td>2008</td>\n",
       "      <td>1920 Horror, Mystery, Supernatural,Thriller Vi...</td>\n",
       "    </tr>\n",
       "    <tr>\n",
       "      <th>2</th>\n",
       "      <td>1921</td>\n",
       "      <td>Horror, Mystery, Supernatural,Thriller</td>\n",
       "      <td>Vikram Bhatt</td>\n",
       "      <td>Vikram Bhatt</td>\n",
       "      <td>Zareen Khan , Karan Kundrra</td>\n",
       "      <td>2018</td>\n",
       "      <td>1921 Horror, Mystery, Supernatural,Thriller Vi...</td>\n",
       "    </tr>\n",
       "    <tr>\n",
       "      <th>3</th>\n",
       "      <td>Singh Vs Kaur</td>\n",
       "      <td>Romantic Comedy , Action , Drama</td>\n",
       "      <td>Navanjat Singh</td>\n",
       "      <td>Dheeraj Rattan</td>\n",
       "      <td>Gippy Grewal,Surveen Chawla</td>\n",
       "      <td>2013</td>\n",
       "      <td>Singh Vs Kaur  Romantic Comedy , Action , Dra...</td>\n",
       "    </tr>\n",
       "    <tr>\n",
       "      <th>4</th>\n",
       "      <td>12th Fail</td>\n",
       "      <td>Biographical,</td>\n",
       "      <td>Vidhu Vinod Chopra</td>\n",
       "      <td>Vidhu Vinod Chopra</td>\n",
       "      <td>Vikrant Massey , Medha Shankr</td>\n",
       "      <td>2023</td>\n",
       "      <td>12th Fail Biographical, Vidhu Vinod Chopra Vid...</td>\n",
       "    </tr>\n",
       "    <tr>\n",
       "      <th>5</th>\n",
       "      <td>13 B</td>\n",
       "      <td>Horror, Mystery, Supernatural,Thriller</td>\n",
       "      <td>Vikram K Kumar</td>\n",
       "      <td>Suresh Balaje</td>\n",
       "      <td>Madhavan</td>\n",
       "      <td>2009</td>\n",
       "      <td>13 B  Horror, Mystery, Supernatural,Thriller V...</td>\n",
       "    </tr>\n",
       "    <tr>\n",
       "      <th>6</th>\n",
       "      <td>14 Phere</td>\n",
       "      <td>Comedy,Romance,Drama</td>\n",
       "      <td>Devanshu Singh</td>\n",
       "      <td>ZEE Studios, Devanshu Singh</td>\n",
       "      <td>Vikrant Massey, Kriti Kharbanda</td>\n",
       "      <td>2021</td>\n",
       "      <td>14 Phere Comedy,Romance,Drama Devanshu Singh Z...</td>\n",
       "    </tr>\n",
       "    <tr>\n",
       "      <th>7</th>\n",
       "      <td>1920 - London</td>\n",
       "      <td>Horror, Mystery, Supernatural,Thriller</td>\n",
       "      <td>Tinu Suresh Desai</td>\n",
       "      <td>Vikram Bhatt</td>\n",
       "      <td>Sharman Joshi, Meera Chopra</td>\n",
       "      <td>2009</td>\n",
       "      <td>1920 - London Horror, Mystery, Supernatural,Th...</td>\n",
       "    </tr>\n",
       "    <tr>\n",
       "      <th>8</th>\n",
       "      <td>2 States</td>\n",
       "      <td>Romance,Comedy,Drama</td>\n",
       "      <td>Abhishek Varman</td>\n",
       "      <td>Karan Johar, Sajid Nadiadwala</td>\n",
       "      <td>Arjun Kapoor, Alia Bhatt</td>\n",
       "      <td>2014</td>\n",
       "      <td>2 States  Romance,Comedy,Drama Abhishek Varman...</td>\n",
       "    </tr>\n",
       "    <tr>\n",
       "      <th>9</th>\n",
       "      <td>3 Idiots</td>\n",
       "      <td>Comedy,Romance,Drama,College_Life</td>\n",
       "      <td>Rajkumar Hirani</td>\n",
       "      <td>Vidhu Vinod Chopra</td>\n",
       "      <td>Aamir Khan, Kareena Kapoor, R. Madhavan, Sharm...</td>\n",
       "      <td>2009</td>\n",
       "      <td>3 Idiots  Comedy,Romance,Drama,College_Life Ra...</td>\n",
       "    </tr>\n",
       "    <tr>\n",
       "      <th>10</th>\n",
       "      <td>Action Replayy</td>\n",
       "      <td>Comedy,Romance,Science Fiction,Drama</td>\n",
       "      <td>Vipul Amrutlal Shah</td>\n",
       "      <td>Vipul Amrutlal Shah</td>\n",
       "      <td>Akshay Kumar, Aishwarya Rai Bachchan</td>\n",
       "      <td>2010</td>\n",
       "      <td>Action Replayy Comedy,Romance,Science Fiction,...</td>\n",
       "    </tr>\n",
       "    <tr>\n",
       "      <th>11</th>\n",
       "      <td>Airlift</td>\n",
       "      <td>Action,History,War,Fiction,Tragedy</td>\n",
       "      <td>Raja Krishna Menon</td>\n",
       "      <td>Nikkhil Advani</td>\n",
       "      <td>Akshay Kumar, Nimrat Kaur</td>\n",
       "      <td>2016</td>\n",
       "      <td>Airlift  Action,History,War,Fiction,Tragedy Ra...</td>\n",
       "    </tr>\n",
       "    <tr>\n",
       "      <th>12</th>\n",
       "      <td>Aisha</td>\n",
       "      <td>Romance,Comedy,Drama</td>\n",
       "      <td>Rajshree Ojha</td>\n",
       "      <td>Anil Kapoor</td>\n",
       "      <td>Sonam Kapoor, Abhay Deol</td>\n",
       "      <td>2010</td>\n",
       "      <td>Aisha Romance,Comedy,Drama Rajshree Ojha Anil ...</td>\n",
       "    </tr>\n",
       "    <tr>\n",
       "      <th>13</th>\n",
       "      <td>Aiyaary</td>\n",
       "      <td>Action,Suspense,Thriller,Crime_Fiction</td>\n",
       "      <td>Neeraj Pandey</td>\n",
       "      <td>Shital Bhatia, Neeraj Pandey</td>\n",
       "      <td>Sidharth Malhotra, Manoj Bajpayee</td>\n",
       "      <td>2018</td>\n",
       "      <td>Aiyaary Action,Suspense,Thriller,Crime_Fiction...</td>\n",
       "    </tr>\n",
       "  </tbody>\n",
       "</table>\n",
       "</div>"
      ],
      "text/plain": [
       "                 Title                                   Genre  \\\n",
       "0   Veerey Ki Wedding                                    Drama   \n",
       "1                 1920  Horror, Mystery, Supernatural,Thriller   \n",
       "2                 1921  Horror, Mystery, Supernatural,Thriller   \n",
       "3       Singh Vs Kaur        Romantic Comedy , Action , Drama    \n",
       "4            12th Fail                           Biographical,   \n",
       "5                13 B   Horror, Mystery, Supernatural,Thriller   \n",
       "6             14 Phere                    Comedy,Romance,Drama   \n",
       "7        1920 - London  Horror, Mystery, Supernatural,Thriller   \n",
       "8            2 States                     Romance,Comedy,Drama   \n",
       "9            3 Idiots        Comedy,Romance,Drama,College_Life   \n",
       "10      Action Replayy  Comedy,Romance,Science Fiction,Drama     \n",
       "11            Airlift       Action,History,War,Fiction,Tragedy   \n",
       "12               Aisha                    Romance,Comedy,Drama   \n",
       "13             Aiyaary  Action,Suspense,Thriller,Crime_Fiction   \n",
       "\n",
       "               Director                       Producer  \\\n",
       "0           Zoya Akhtar                   Rajat Bakshi   \n",
       "1         Vikram Bhatt                   Vikram Bhatt    \n",
       "2         Vikram Bhatt                   Vikram Bhatt    \n",
       "3       Navanjat Singh                 Dheeraj Rattan    \n",
       "4    Vidhu Vinod Chopra             Vidhu Vinod Chopra   \n",
       "5        Vikram K Kumar                  Suresh Balaje   \n",
       "6        Devanshu Singh    ZEE Studios, Devanshu Singh   \n",
       "7     Tinu Suresh Desai                   Vikram Bhatt   \n",
       "8       Abhishek Varman  Karan Johar, Sajid Nadiadwala   \n",
       "9       Rajkumar Hirani             Vidhu Vinod Chopra   \n",
       "10  Vipul Amrutlal Shah            Vipul Amrutlal Shah   \n",
       "11   Raja Krishna Menon                 Nikkhil Advani   \n",
       "12        Rajshree Ojha                    Anil Kapoor   \n",
       "13        Neeraj Pandey   Shital Bhatia, Neeraj Pandey   \n",
       "\n",
       "                                               Actors Release  \\\n",
       "0                      Pulkit Samrat, Kriti Kharbanda           \n",
       "1                        Rajneesh Duggal, Adah Sharma    2008   \n",
       "2                         Zareen Khan , Karan Kundrra    2018   \n",
       "3                        Gippy Grewal,Surveen Chawla     2013   \n",
       "4                       Vikrant Massey , Medha Shankr    2023   \n",
       "5                                            Madhavan    2009   \n",
       "6                     Vikrant Massey, Kriti Kharbanda    2021   \n",
       "7                         Sharman Joshi, Meera Chopra    2009   \n",
       "8                            Arjun Kapoor, Alia Bhatt    2014   \n",
       "9   Aamir Khan, Kareena Kapoor, R. Madhavan, Sharm...    2009   \n",
       "10               Akshay Kumar, Aishwarya Rai Bachchan    2010   \n",
       "11                          Akshay Kumar, Nimrat Kaur    2016   \n",
       "12                           Sonam Kapoor, Abhay Deol    2010   \n",
       "13                  Sidharth Malhotra, Manoj Bajpayee    2018   \n",
       "\n",
       "                                                 tags  \n",
       "0   Veerey Ki Wedding  Drama Zoya Akhtar Rajat Bak...  \n",
       "1   1920 Horror, Mystery, Supernatural,Thriller Vi...  \n",
       "2   1921 Horror, Mystery, Supernatural,Thriller Vi...  \n",
       "3    Singh Vs Kaur  Romantic Comedy , Action , Dra...  \n",
       "4   12th Fail Biographical, Vidhu Vinod Chopra Vid...  \n",
       "5   13 B  Horror, Mystery, Supernatural,Thriller V...  \n",
       "6   14 Phere Comedy,Romance,Drama Devanshu Singh Z...  \n",
       "7   1920 - London Horror, Mystery, Supernatural,Th...  \n",
       "8   2 States  Romance,Comedy,Drama Abhishek Varman...  \n",
       "9   3 Idiots  Comedy,Romance,Drama,College_Life Ra...  \n",
       "10  Action Replayy Comedy,Romance,Science Fiction,...  \n",
       "11  Airlift  Action,History,War,Fiction,Tragedy Ra...  \n",
       "12  Aisha Romance,Comedy,Drama Rajshree Ojha Anil ...  \n",
       "13  Aiyaary Action,Suspense,Thriller,Crime_Fiction...  "
      ]
     },
     "execution_count": 13,
     "metadata": {},
     "output_type": "execute_result"
    }
   ],
   "source": [
    "movies.head(14)\n"
   ]
  },
  {
   "cell_type": "code",
   "execution_count": 14,
   "id": "83946dba-58d5-4660-ba54-9348af0ca85a",
   "metadata": {},
   "outputs": [
    {
     "name": "stdout",
     "output_type": "stream",
     "text": [
      "Requirement already satisfied: nltk in d:\\anaconda_installed\\envs\\devikaenv\\lib\\site-packages (3.8.1)\n",
      "Requirement already satisfied: click in d:\\anaconda_installed\\envs\\devikaenv\\lib\\site-packages (from nltk) (8.1.7)\n",
      "Requirement already satisfied: joblib in d:\\anaconda_installed\\envs\\devikaenv\\lib\\site-packages (from nltk) (1.4.2)\n",
      "Requirement already satisfied: regex>=2021.8.3 in d:\\anaconda_installed\\envs\\devikaenv\\lib\\site-packages (from nltk) (2024.5.15)\n",
      "Requirement already satisfied: tqdm in d:\\anaconda_installed\\envs\\devikaenv\\lib\\site-packages (from nltk) (4.66.4)\n",
      "Requirement already satisfied: colorama in d:\\anaconda_installed\\envs\\devikaenv\\lib\\site-packages (from click->nltk) (0.4.6)\n"
     ]
    }
   ],
   "source": [
    "!pip install nltk"
   ]
  },
  {
   "cell_type": "code",
   "execution_count": 15,
   "id": "c79906a3-7c55-4db1-8051-de42df32b751",
   "metadata": {},
   "outputs": [],
   "source": [
    "import nltk"
   ]
  },
  {
   "cell_type": "code",
   "execution_count": 16,
   "id": "db6fcad4-81e0-40c5-9a91-8f24b3cd11d1",
   "metadata": {},
   "outputs": [],
   "source": [
    "from nltk.stem.porter import PorterStemmer\n",
    "ps = PorterStemmer()"
   ]
  },
  {
   "cell_type": "code",
   "execution_count": 17,
   "id": "f063beb8-c00e-427c-85cb-02ef1c66b433",
   "metadata": {},
   "outputs": [],
   "source": [
    "def stem(text):\n",
    "     y=[]\n",
    "     for i in text.split():\n",
    "        y.append(ps.stem(i))\n",
    "\n",
    "     return \" \".join(y)"
   ]
  },
  {
   "cell_type": "code",
   "execution_count": 18,
   "id": "960fe1a6-1d13-4522-acf5-879e47d04100",
   "metadata": {},
   "outputs": [],
   "source": [
    "movies['tags'] = movies['tags'].apply(stem)"
   ]
  },
  {
   "cell_type": "raw",
   "id": "bcb9c276-9343-4b36-8871-598a6b865633",
   "metadata": {},
   "source": [
    "print(movies['tags'])"
   ]
  },
  {
   "cell_type": "code",
   "execution_count": 19,
   "id": "e4c785e5-3dc8-4e3e-853a-2391742ae7e3",
   "metadata": {},
   "outputs": [
    {
     "data": {
      "text/plain": [
       "0      veerey ki wed drama zoya akhtar rajat bakshi p...\n",
       "1      1920 horror, mystery, supernatural,thril vikra...\n",
       "2      1921 horror, mystery, supernatural,thril vikra...\n",
       "3      singh vs kaur romant comedi , action , drama n...\n",
       "4      12th fail biographical, vidhu vinod chopra vid...\n",
       "                             ...                        \n",
       "252    zero drama laxman utekar gauri khan, red chill...\n",
       "253    zindagi na milegi dobara drama aanand l. rai f...\n",
       "254                                                     \n",
       "255                                                     \n",
       "256                                                     \n",
       "Name: tags, Length: 257, dtype: object"
      ]
     },
     "execution_count": 19,
     "metadata": {},
     "output_type": "execute_result"
    }
   ],
   "source": [
    "movies['tags']"
   ]
  },
  {
   "cell_type": "code",
   "execution_count": 20,
   "id": "f86bbb97-b0ec-4554-93f2-8dfe519d442f",
   "metadata": {},
   "outputs": [
    {
     "name": "stdout",
     "output_type": "stream",
     "text": [
      "                Title                                   Genre  \\\n",
      "0  Veerey Ki Wedding                                    Drama   \n",
      "1                1920  Horror, Mystery, Supernatural,Thriller   \n",
      "2                1921  Horror, Mystery, Supernatural,Thriller   \n",
      "3      Singh Vs Kaur        Romantic Comedy , Action , Drama    \n",
      "4           12th Fail                           Biographical,   \n",
      "\n",
      "             Director            Producer                          Actors  \\\n",
      "0         Zoya Akhtar        Rajat Bakshi  Pulkit Samrat, Kriti Kharbanda   \n",
      "1       Vikram Bhatt        Vikram Bhatt     Rajneesh Duggal, Adah Sharma   \n",
      "2       Vikram Bhatt        Vikram Bhatt      Zareen Khan , Karan Kundrra   \n",
      "3     Navanjat Singh      Dheeraj Rattan     Gippy Grewal,Surveen Chawla    \n",
      "4  Vidhu Vinod Chopra  Vidhu Vinod Chopra   Vikrant Massey , Medha Shankr   \n",
      "\n",
      "  Release                                               tags  \n",
      "0          veerey ki wed drama zoya akhtar rajat bakshi p...  \n",
      "1    2008  1920 horror, mystery, supernatural,thril vikra...  \n",
      "2    2018  1921 horror, mystery, supernatural,thril vikra...  \n",
      "3    2013  singh vs kaur romant comedi , action , drama n...  \n",
      "4    2023  12th fail biographical, vidhu vinod chopra vid...  \n"
     ]
    }
   ],
   "source": [
    "print(movies.head())"
   ]
  },
  {
   "cell_type": "code",
   "execution_count": 21,
   "id": "2699a139-a604-4e6f-884f-eeaa76e5fe97",
   "metadata": {},
   "outputs": [
    {
     "data": {
      "text/plain": [
       "'Adventure,Sports,Family_Drama'"
      ]
     },
     "execution_count": 21,
     "metadata": {},
     "output_type": "execute_result"
    }
   ],
   "source": [
    "movies['Genre'][15]"
   ]
  },
  {
   "cell_type": "code",
   "execution_count": 22,
   "id": "e64644d3-6e4d-4bab-8e36-e79fc1288f3d",
   "metadata": {},
   "outputs": [
    {
     "data": {
      "text/plain": [
       "'Apne '"
      ]
     },
     "execution_count": 22,
     "metadata": {},
     "output_type": "execute_result"
    }
   ],
   "source": [
    "movies['Title'][15]"
   ]
  },
  {
   "cell_type": "code",
   "execution_count": 23,
   "id": "04476f0d-92f7-4393-a8d3-3aa99d8d3d15",
   "metadata": {},
   "outputs": [
    {
     "data": {
      "text/plain": [
       "'Dharmendra, Sunny Deol, Bobby Deol'"
      ]
     },
     "execution_count": 23,
     "metadata": {},
     "output_type": "execute_result"
    }
   ],
   "source": [
    "movies['Actors'][15]"
   ]
  },
  {
   "cell_type": "code",
   "execution_count": 24,
   "id": "f72ae0c4-103b-41cf-aede-24523371b9e3",
   "metadata": {},
   "outputs": [
    {
     "data": {
      "text/plain": [
       "'Dharmendra, Sunny Deol, Bobby Deol'"
      ]
     },
     "execution_count": 24,
     "metadata": {},
     "output_type": "execute_result"
    }
   ],
   "source": [
    "movies['Actors'][15]"
   ]
  },
  {
   "cell_type": "code",
   "execution_count": 25,
   "id": "d013e615-bad4-4257-bfc2-630beda70306",
   "metadata": {},
   "outputs": [],
   "source": [
    "from sklearn.feature_extraction.text import CountVectorizer\n",
    "cv = CountVectorizer(max_features=5000,stop_words='english')"
   ]
  },
  {
   "cell_type": "code",
   "execution_count": 26,
   "id": "f1a977e8-2f36-42f3-be6c-d086b804afa4",
   "metadata": {},
   "outputs": [],
   "source": [
    "vectors = cv.fit_transform(movies['tags']).toarray()"
   ]
  },
  {
   "cell_type": "code",
   "execution_count": 27,
   "id": "390e45f9-6571-4db5-9c42-0c46e5ab7451",
   "metadata": {},
   "outputs": [
    {
     "data": {
      "text/plain": [
       "array([[0, 0, 0, ..., 0, 1, 0],\n",
       "       [0, 0, 0, ..., 0, 0, 0],\n",
       "       [0, 0, 0, ..., 0, 0, 0],\n",
       "       ...,\n",
       "       [0, 0, 0, ..., 0, 0, 0],\n",
       "       [0, 0, 0, ..., 0, 0, 0],\n",
       "       [0, 0, 0, ..., 0, 0, 0]], dtype=int64)"
      ]
     },
     "execution_count": 27,
     "metadata": {},
     "output_type": "execute_result"
    }
   ],
   "source": [
    "vectors"
   ]
  },
  {
   "cell_type": "code",
   "execution_count": 28,
   "id": "edbd103f-3b99-4e9e-9348-74d78f862920",
   "metadata": {},
   "outputs": [],
   "source": [
    "vectors = cv.fit_transform(movies['tags']).toarray().shape"
   ]
  },
  {
   "cell_type": "code",
   "execution_count": 29,
   "id": "169e0e4a-521e-4641-bd9b-be280fdddd73",
   "metadata": {},
   "outputs": [
    {
     "data": {
      "text/plain": [
       "(257, 1350)"
      ]
     },
     "execution_count": 29,
     "metadata": {},
     "output_type": "execute_result"
    }
   ],
   "source": [
    "vectors"
   ]
  },
  {
   "cell_type": "code",
   "execution_count": 30,
   "id": "f80d6d0d-c944-4e1e-8760-65a863d6f37b",
   "metadata": {},
   "outputs": [],
   "source": [
    "feature_names = cv.get_feature_names_out()"
   ]
  },
  {
   "cell_type": "code",
   "execution_count": 31,
   "id": "6d2a9010-e606-44fc-ad66-0aaa318bf9e0",
   "metadata": {},
   "outputs": [
    {
     "name": "stdout",
     "output_type": "stream",
     "text": [
      "['10' '12th' '13' ... 'zinta' 'zoya' 'zutshi']\n"
     ]
    }
   ],
   "source": [
    "print(feature_names)"
   ]
  },
  {
   "cell_type": "code",
   "execution_count": 32,
   "id": "aab02f8e-9872-4b5a-8a3c-74f9d029b68f",
   "metadata": {},
   "outputs": [
    {
     "data": {
      "text/plain": [
       "'comedi'"
      ]
     },
     "execution_count": 32,
     "metadata": {},
     "output_type": "execute_result"
    }
   ],
   "source": [
    "ps.stem('comedy')"
   ]
  },
  {
   "cell_type": "code",
   "execution_count": 33,
   "id": "66368b04-9d92-48ad-ae3a-8e8fba5f4a3e",
   "metadata": {},
   "outputs": [
    {
     "data": {
      "text/plain": [
       "array(['10', '12th', '13', ..., 'zinta', 'zoya', 'zutshi'], dtype=object)"
      ]
     },
     "execution_count": 33,
     "metadata": {},
     "output_type": "execute_result"
    }
   ],
   "source": [
    "cv.get_feature_names_out()"
   ]
  },
  {
   "cell_type": "code",
   "execution_count": 34,
   "id": "14e32802-55aa-45fa-a445-34fb6478822d",
   "metadata": {},
   "outputs": [
    {
     "name": "stderr",
     "output_type": "stream",
     "text": [
      "[nltk_data] Downloading package punkt to\n",
      "[nltk_data]     C:\\Users\\Devika\\AppData\\Roaming\\nltk_data...\n",
      "[nltk_data]   Package punkt is already up-to-date!\n"
     ]
    },
    {
     "data": {
      "text/plain": [
       "True"
      ]
     },
     "execution_count": 34,
     "metadata": {},
     "output_type": "execute_result"
    }
   ],
   "source": [
    "nltk.download('punkt')"
   ]
  },
  {
   "cell_type": "code",
   "execution_count": 35,
   "id": "828ca733-1fa3-4e36-8651-bdbe8497b819",
   "metadata": {},
   "outputs": [],
   "source": [
    "from sklearn.metrics.pairwise import cosine_similarity\n"
   ]
  },
  {
   "cell_type": "code",
   "execution_count": 36,
   "id": "e2f8c254-a7f5-4a3b-88b7-f0d156a76f14",
   "metadata": {},
   "outputs": [],
   "source": [
    " \n",
    "from sklearn.feature_extraction.text import CountVectorizer\n",
    "from sklearn.metrics.pairwise import cosine_similarity\n",
    "\n",
    "# Assuming movies['tags'] contains the preprocessed text data\n",
    "cv = CountVectorizer(max_features=5000, stop_words='english')\n",
    "vectors = cv.fit_transform(movies['tags']).toarray()\n",
    "\n",
    "# Compute cosine similarity\n",
    "similarity = cosine_similarity(vectors)\n",
    "\n",
    "# Now 'similarity' should contain the cosine similarity matrix\n",
    "\n",
    " \n"
   ]
  },
  {
   "cell_type": "code",
   "execution_count": 37,
   "id": "30e2f41d-0702-427b-87e8-d350f9219480",
   "metadata": {},
   "outputs": [
    {
     "data": {
      "text/plain": [
       "array([[1.        , 0.        , 0.        , ..., 0.        , 0.        ,\n",
       "        0.        ],\n",
       "       [0.        , 1.        , 0.66666667, ..., 0.        , 0.        ,\n",
       "        0.        ],\n",
       "       [0.        , 0.66666667, 1.        , ..., 0.        , 0.        ,\n",
       "        0.        ],\n",
       "       ...,\n",
       "       [0.        , 0.        , 0.        , ..., 0.        , 0.        ,\n",
       "        0.        ],\n",
       "       [0.        , 0.        , 0.        , ..., 0.        , 0.        ,\n",
       "        0.        ],\n",
       "       [0.        , 0.        , 0.        , ..., 0.        , 0.        ,\n",
       "        0.        ]])"
      ]
     },
     "execution_count": 37,
     "metadata": {},
     "output_type": "execute_result"
    }
   ],
   "source": [
    "similarity"
   ]
  },
  {
   "cell_type": "code",
   "execution_count": 38,
   "id": "1af15614-48ef-4931-b043-468303a0776f",
   "metadata": {},
   "outputs": [
    {
     "data": {
      "text/plain": [
       "(257, 257)"
      ]
     },
     "execution_count": 38,
     "metadata": {},
     "output_type": "execute_result"
    }
   ],
   "source": [
    "cosine_similarity(vectors).shape"
   ]
  },
  {
   "cell_type": "code",
   "execution_count": 39,
   "id": "ed878891-8ac9-4078-be86-07c3818f92d6",
   "metadata": {},
   "outputs": [
    {
     "data": {
      "text/plain": [
       "[(76, 0.25819888974716115),\n",
       " (75, 0.25197631533948484),\n",
       " (230, 0.223606797749979),\n",
       " (6, 0.19364916731037085),\n",
       " (129, 0.18898223650461363),\n",
       " (253, 0.18898223650461363),\n",
       " (60, 0.1846372364689991),\n",
       " (210, 0.17407765595569785),\n",
       " (234, 0.15430334996209194)]"
      ]
     },
     "execution_count": 39,
     "metadata": {},
     "output_type": "execute_result"
    }
   ],
   "source": [
    "sorted(list(enumerate(similarity[0])),reverse=True,key=lambda x: x[1])[1:10]\n"
   ]
  },
  {
   "cell_type": "code",
   "execution_count": 60,
   "id": "e14d25a1-6e90-4c2a-b05c-77f81c71b44d",
   "metadata": {},
   "outputs": [
    {
     "name": "stdout",
     "output_type": "stream",
     "text": [
      "1921\n",
      "1920 - London\n",
      "raaz 3\n",
      "13 B\n",
      "raaz reboot\n",
      "Raaz\n",
      "Bulbbul\n",
      "Ek thi Dayan\n",
      "NH 10\n"
     ]
    }
   ],
   "source": [
    "def Recommend(movie):\n",
    "    try:\n",
    "        movie_index = movies[movies['Title'] == movie].index[0]  # Find the index of the movie\n",
    "        distances = similarity[movie_index]  # Get the similarity distances for the movie\n",
    "        movies_list = sorted(list(enumerate(distances)), reverse=True, key=lambda x: x[1])[1:10]  # Sort distances and get top 10\n",
    "        \n",
    "        for i in movies_list:\n",
    "            print(movies.iloc[i[0]].Title)\n",
    "             \n",
    "        \n",
    "    except IndexError:\n",
    "        print(f\"Movie '{movie}' not found in the dataset.\")\n",
    "        return None  # Handle the case where movie is not found\n",
    "\n",
    "# Example usage\n",
    "Recommend('1920')\n",
    "\n",
    "   "
   ]
  },
  {
   "cell_type": "code",
   "execution_count": 61,
   "id": "a21ce6e5-d512-4cc4-9b72-bae633c22cc3",
   "metadata": {},
   "outputs": [
    {
     "name": "stdout",
     "output_type": "stream",
     "text": [
      "Singh Is King\n",
      "Namaste London\n",
      "Action Replayy\n",
      "Waqt\n",
      "Humko Deewana Kar Gaye\n",
      "Holiday\n",
      "Patiala House\n",
      "Toilet\n",
      "De Dana Dan\n"
     ]
    }
   ],
   "source": [
    "Recommend ('Welcome')"
   ]
  },
  {
   "cell_type": "code",
   "execution_count": 62,
   "id": "83dfa6c3-b8dd-4d90-9ca6-338ba5894b4b",
   "metadata": {},
   "outputs": [
    {
     "name": "stdout",
     "output_type": "stream",
     "text": [
      "   Title                          Genre     Director    Producer  \\\n",
      "15  Apne  Adventure,Sports,Family_Drama  Anil Sharma  Dharmendra   \n",
      "\n",
      "                                Actors Release  \\\n",
      "15  Dharmendra, Sunny Deol, Bobby Deol    2007   \n",
      "\n",
      "                                                 tags  \n",
      "15  apn adventure,sports,family_drama anil sharma ...  \n",
      "   Title                          Genre     Director    Producer  \\\n",
      "15  Apne  Adventure,Sports,Family_Drama  Anil Sharma  Dharmendra   \n",
      "\n",
      "                                Actors Release  \\\n",
      "15  Dharmendra, Sunny Deol, Bobby Deol    2007   \n",
      "\n",
      "                                                 tags  \n",
      "15  apn adventure,sports,family_drama anil sharma ...  \n"
     ]
    }
   ],
   "source": [
    "# Ensure there are no leading or trailing spaces in the 'Movie Name' column\n",
    "movies['Title'] = movies['Title'].str.strip()\n",
    "\n",
    "# Check if 'Apne' exists in the 'Movie Name' column\n",
    "print(movies[movies['Title'] == 'Apne'])\n",
    "\n",
    "# Alternatively, use .str.contains() to check for 'Apne' within the column\n",
    "print(movies[movies['Title'].str.contains('Apne', case=False, na=False)])\n"
   ]
  },
  {
   "cell_type": "code",
   "execution_count": 63,
   "id": "e59f7454-7732-4ba8-8f16-36d163716756",
   "metadata": {},
   "outputs": [
    {
     "data": {
      "text/plain": [
       "1"
      ]
     },
     "execution_count": 63,
     "metadata": {},
     "output_type": "execute_result"
    }
   ],
   "source": [
    "movies[movies['Title'] == '1920'].index[0]"
   ]
  },
  {
   "cell_type": "code",
   "execution_count": 64,
   "id": "c86fa8fd-06f9-4d3e-b5ba-46ea186c69a6",
   "metadata": {},
   "outputs": [
    {
     "data": {
      "text/html": [
       "<div>\n",
       "<style scoped>\n",
       "    .dataframe tbody tr th:only-of-type {\n",
       "        vertical-align: middle;\n",
       "    }\n",
       "\n",
       "    .dataframe tbody tr th {\n",
       "        vertical-align: top;\n",
       "    }\n",
       "\n",
       "    .dataframe thead th {\n",
       "        text-align: right;\n",
       "    }\n",
       "</style>\n",
       "<table border=\"1\" class=\"dataframe\">\n",
       "  <thead>\n",
       "    <tr style=\"text-align: right;\">\n",
       "      <th></th>\n",
       "      <th>Title</th>\n",
       "      <th>Genre</th>\n",
       "      <th>Director</th>\n",
       "      <th>Producer</th>\n",
       "      <th>Actors</th>\n",
       "      <th>Release</th>\n",
       "      <th>tags</th>\n",
       "    </tr>\n",
       "  </thead>\n",
       "  <tbody>\n",
       "    <tr>\n",
       "      <th>0</th>\n",
       "      <td>Veerey Ki Wedding</td>\n",
       "      <td>Drama</td>\n",
       "      <td>Zoya Akhtar</td>\n",
       "      <td>Rajat Bakshi</td>\n",
       "      <td>Pulkit Samrat, Kriti Kharbanda</td>\n",
       "      <td></td>\n",
       "      <td>veerey ki wed drama zoya akhtar rajat bakshi p...</td>\n",
       "    </tr>\n",
       "    <tr>\n",
       "      <th>1</th>\n",
       "      <td>1920</td>\n",
       "      <td>Horror, Mystery, Supernatural,Thriller</td>\n",
       "      <td>Vikram Bhatt</td>\n",
       "      <td>Vikram Bhatt</td>\n",
       "      <td>Rajneesh Duggal, Adah Sharma</td>\n",
       "      <td>2008</td>\n",
       "      <td>1920 horror, mystery, supernatural,thril vikra...</td>\n",
       "    </tr>\n",
       "    <tr>\n",
       "      <th>2</th>\n",
       "      <td>1921</td>\n",
       "      <td>Horror, Mystery, Supernatural,Thriller</td>\n",
       "      <td>Vikram Bhatt</td>\n",
       "      <td>Vikram Bhatt</td>\n",
       "      <td>Zareen Khan , Karan Kundrra</td>\n",
       "      <td>2018</td>\n",
       "      <td>1921 horror, mystery, supernatural,thril vikra...</td>\n",
       "    </tr>\n",
       "    <tr>\n",
       "      <th>3</th>\n",
       "      <td>Singh Vs Kaur</td>\n",
       "      <td>Romantic Comedy , Action , Drama</td>\n",
       "      <td>Navanjat Singh</td>\n",
       "      <td>Dheeraj Rattan</td>\n",
       "      <td>Gippy Grewal,Surveen Chawla</td>\n",
       "      <td>2013</td>\n",
       "      <td>singh vs kaur romant comedi , action , drama n...</td>\n",
       "    </tr>\n",
       "    <tr>\n",
       "      <th>4</th>\n",
       "      <td>12th Fail</td>\n",
       "      <td>Biographical,</td>\n",
       "      <td>Vidhu Vinod Chopra</td>\n",
       "      <td>Vidhu Vinod Chopra</td>\n",
       "      <td>Vikrant Massey , Medha Shankr</td>\n",
       "      <td>2023</td>\n",
       "      <td>12th fail biographical, vidhu vinod chopra vid...</td>\n",
       "    </tr>\n",
       "    <tr>\n",
       "      <th>...</th>\n",
       "      <td>...</td>\n",
       "      <td>...</td>\n",
       "      <td>...</td>\n",
       "      <td>...</td>\n",
       "      <td>...</td>\n",
       "      <td>...</td>\n",
       "      <td>...</td>\n",
       "    </tr>\n",
       "    <tr>\n",
       "      <th>252</th>\n",
       "      <td>ZERO</td>\n",
       "      <td>Drama</td>\n",
       "      <td>Laxman Utekar</td>\n",
       "      <td>Gauri Khan, Red Chillies Entertainment</td>\n",
       "      <td>Shah Rukh Khan, Anushka Sharma, Katrina Kaif</td>\n",
       "      <td></td>\n",
       "      <td>zero drama laxman utekar gauri khan, red chill...</td>\n",
       "    </tr>\n",
       "    <tr>\n",
       "      <th>253</th>\n",
       "      <td>Zindagi Na Milegi Dobara</td>\n",
       "      <td>Drama</td>\n",
       "      <td>Aanand L. Rai</td>\n",
       "      <td>Farhan Akhtar, Ritesh Sidhwani</td>\n",
       "      <td>Hrithik Roshan, Farhan Akhtar, Abhay Deol</td>\n",
       "      <td></td>\n",
       "      <td>zindagi na milegi dobara drama aanand l. rai f...</td>\n",
       "    </tr>\n",
       "    <tr>\n",
       "      <th>254</th>\n",
       "      <td></td>\n",
       "      <td></td>\n",
       "      <td></td>\n",
       "      <td></td>\n",
       "      <td></td>\n",
       "      <td></td>\n",
       "      <td></td>\n",
       "    </tr>\n",
       "    <tr>\n",
       "      <th>255</th>\n",
       "      <td></td>\n",
       "      <td></td>\n",
       "      <td></td>\n",
       "      <td></td>\n",
       "      <td></td>\n",
       "      <td></td>\n",
       "      <td></td>\n",
       "    </tr>\n",
       "    <tr>\n",
       "      <th>256</th>\n",
       "      <td></td>\n",
       "      <td></td>\n",
       "      <td></td>\n",
       "      <td></td>\n",
       "      <td></td>\n",
       "      <td></td>\n",
       "      <td></td>\n",
       "    </tr>\n",
       "  </tbody>\n",
       "</table>\n",
       "<p>257 rows × 7 columns</p>\n",
       "</div>"
      ],
      "text/plain": [
       "                        Title                                   Genre  \\\n",
       "0           Veerey Ki Wedding                                   Drama   \n",
       "1                        1920  Horror, Mystery, Supernatural,Thriller   \n",
       "2                        1921  Horror, Mystery, Supernatural,Thriller   \n",
       "3               Singh Vs Kaur       Romantic Comedy , Action , Drama    \n",
       "4                   12th Fail                           Biographical,   \n",
       "..                        ...                                     ...   \n",
       "252                      ZERO                                   Drama   \n",
       "253  Zindagi Na Milegi Dobara                                   Drama   \n",
       "254                                                                     \n",
       "255                                                                     \n",
       "256                                                                     \n",
       "\n",
       "               Director                                Producer  \\\n",
       "0           Zoya Akhtar                            Rajat Bakshi   \n",
       "1         Vikram Bhatt                            Vikram Bhatt    \n",
       "2         Vikram Bhatt                            Vikram Bhatt    \n",
       "3       Navanjat Singh                          Dheeraj Rattan    \n",
       "4    Vidhu Vinod Chopra                      Vidhu Vinod Chopra   \n",
       "..                  ...                                     ...   \n",
       "252       Laxman Utekar  Gauri Khan, Red Chillies Entertainment   \n",
       "253       Aanand L. Rai          Farhan Akhtar, Ritesh Sidhwani   \n",
       "254                                                               \n",
       "255                                                               \n",
       "256                                                               \n",
       "\n",
       "                                           Actors Release  \\\n",
       "0                  Pulkit Samrat, Kriti Kharbanda           \n",
       "1                    Rajneesh Duggal, Adah Sharma    2008   \n",
       "2                     Zareen Khan , Karan Kundrra    2018   \n",
       "3                    Gippy Grewal,Surveen Chawla     2013   \n",
       "4                   Vikrant Massey , Medha Shankr    2023   \n",
       "..                                            ...     ...   \n",
       "252  Shah Rukh Khan, Anushka Sharma, Katrina Kaif           \n",
       "253     Hrithik Roshan, Farhan Akhtar, Abhay Deol           \n",
       "254                                                         \n",
       "255                                                         \n",
       "256                                                         \n",
       "\n",
       "                                                  tags  \n",
       "0    veerey ki wed drama zoya akhtar rajat bakshi p...  \n",
       "1    1920 horror, mystery, supernatural,thril vikra...  \n",
       "2    1921 horror, mystery, supernatural,thril vikra...  \n",
       "3    singh vs kaur romant comedi , action , drama n...  \n",
       "4    12th fail biographical, vidhu vinod chopra vid...  \n",
       "..                                                 ...  \n",
       "252  zero drama laxman utekar gauri khan, red chill...  \n",
       "253  zindagi na milegi dobara drama aanand l. rai f...  \n",
       "254                                                     \n",
       "255                                                     \n",
       "256                                                     \n",
       "\n",
       "[257 rows x 7 columns]"
      ]
     },
     "execution_count": 64,
     "metadata": {},
     "output_type": "execute_result"
    }
   ],
   "source": [
    "movies"
   ]
  },
  {
   "cell_type": "code",
   "execution_count": 65,
   "id": "7e6cd9c8-3810-4799-a359-99bd796bb192",
   "metadata": {},
   "outputs": [
    {
     "data": {
      "text/plain": [
       "Title                                                   Dhoom\n",
       "Genre       Detective,Mystery,Thriller,Police,Crime,Romanc...\n",
       "Director                                        Sanjay Gadhvi\n",
       "Producer                                        Aditya Chopra\n",
       "Actors           Abhishek Bachchan, Uday Chopra, John Abraham\n",
       "Release                                                      \n",
       "tags        dhoom detective,mystery,thriller,police,crime,...\n",
       "Name: 56, dtype: object"
      ]
     },
     "execution_count": 65,
     "metadata": {},
     "output_type": "execute_result"
    }
   ],
   "source": [
    "movies.iloc[56]"
   ]
  },
  {
   "cell_type": "code",
   "execution_count": 66,
   "id": "ed796f38-c7f5-4071-8d28-a925d24c9cbc",
   "metadata": {},
   "outputs": [
    {
     "data": {
      "text/plain": [
       "'Abhishek Bachchan, Uday Chopra, John Abraham'"
      ]
     },
     "execution_count": 66,
     "metadata": {},
     "output_type": "execute_result"
    }
   ],
   "source": [
    "movies.iloc[56].Actors"
   ]
  },
  {
   "cell_type": "code",
   "execution_count": 67,
   "id": "ffd19598-ff33-4a49-9fa8-72b1ee8f2b01",
   "metadata": {},
   "outputs": [],
   "source": [
    "import pickle"
   ]
  },
  {
   "cell_type": "code",
   "execution_count": 68,
   "id": "7949e9c8-f816-4b9a-8ab2-cec918a6c75a",
   "metadata": {},
   "outputs": [],
   "source": [
    "pickle.dump(movies,open('movies.pkl','wb'))"
   ]
  },
  {
   "cell_type": "code",
   "execution_count": 69,
   "id": "10392c06-1ff6-430d-a680-3238feb1a207",
   "metadata": {},
   "outputs": [
    {
     "data": {
      "text/plain": [
       "'C:\\\\Users\\\\Devika'"
      ]
     },
     "execution_count": 69,
     "metadata": {},
     "output_type": "execute_result"
    }
   ],
   "source": [
    "pwd"
   ]
  },
  {
   "cell_type": "code",
   "execution_count": 70,
   "id": "a4cbf525-87c8-4441-a1dd-3a3b5380d0c9",
   "metadata": {},
   "outputs": [
    {
     "data": {
      "text/html": [
       "<div>\n",
       "<style scoped>\n",
       "    .dataframe tbody tr th:only-of-type {\n",
       "        vertical-align: middle;\n",
       "    }\n",
       "\n",
       "    .dataframe tbody tr th {\n",
       "        vertical-align: top;\n",
       "    }\n",
       "\n",
       "    .dataframe thead th {\n",
       "        text-align: right;\n",
       "    }\n",
       "</style>\n",
       "<table border=\"1\" class=\"dataframe\">\n",
       "  <thead>\n",
       "    <tr style=\"text-align: right;\">\n",
       "      <th></th>\n",
       "      <th>Title</th>\n",
       "      <th>Genre</th>\n",
       "      <th>Director</th>\n",
       "      <th>Producer</th>\n",
       "      <th>Actors</th>\n",
       "      <th>Release</th>\n",
       "      <th>tags</th>\n",
       "    </tr>\n",
       "  </thead>\n",
       "  <tbody>\n",
       "    <tr>\n",
       "      <th>0</th>\n",
       "      <td>Veerey Ki Wedding</td>\n",
       "      <td>Drama</td>\n",
       "      <td>Zoya Akhtar</td>\n",
       "      <td>Rajat Bakshi</td>\n",
       "      <td>Pulkit Samrat, Kriti Kharbanda</td>\n",
       "      <td></td>\n",
       "      <td>veerey ki wed drama zoya akhtar rajat bakshi p...</td>\n",
       "    </tr>\n",
       "    <tr>\n",
       "      <th>1</th>\n",
       "      <td>1920</td>\n",
       "      <td>Horror, Mystery, Supernatural,Thriller</td>\n",
       "      <td>Vikram Bhatt</td>\n",
       "      <td>Vikram Bhatt</td>\n",
       "      <td>Rajneesh Duggal, Adah Sharma</td>\n",
       "      <td>2008</td>\n",
       "      <td>1920 horror, mystery, supernatural,thril vikra...</td>\n",
       "    </tr>\n",
       "    <tr>\n",
       "      <th>2</th>\n",
       "      <td>1921</td>\n",
       "      <td>Horror, Mystery, Supernatural,Thriller</td>\n",
       "      <td>Vikram Bhatt</td>\n",
       "      <td>Vikram Bhatt</td>\n",
       "      <td>Zareen Khan , Karan Kundrra</td>\n",
       "      <td>2018</td>\n",
       "      <td>1921 horror, mystery, supernatural,thril vikra...</td>\n",
       "    </tr>\n",
       "    <tr>\n",
       "      <th>3</th>\n",
       "      <td>Singh Vs Kaur</td>\n",
       "      <td>Romantic Comedy , Action , Drama</td>\n",
       "      <td>Navanjat Singh</td>\n",
       "      <td>Dheeraj Rattan</td>\n",
       "      <td>Gippy Grewal,Surveen Chawla</td>\n",
       "      <td>2013</td>\n",
       "      <td>singh vs kaur romant comedi , action , drama n...</td>\n",
       "    </tr>\n",
       "    <tr>\n",
       "      <th>4</th>\n",
       "      <td>12th Fail</td>\n",
       "      <td>Biographical,</td>\n",
       "      <td>Vidhu Vinod Chopra</td>\n",
       "      <td>Vidhu Vinod Chopra</td>\n",
       "      <td>Vikrant Massey , Medha Shankr</td>\n",
       "      <td>2023</td>\n",
       "      <td>12th fail biographical, vidhu vinod chopra vid...</td>\n",
       "    </tr>\n",
       "    <tr>\n",
       "      <th>...</th>\n",
       "      <td>...</td>\n",
       "      <td>...</td>\n",
       "      <td>...</td>\n",
       "      <td>...</td>\n",
       "      <td>...</td>\n",
       "      <td>...</td>\n",
       "      <td>...</td>\n",
       "    </tr>\n",
       "    <tr>\n",
       "      <th>252</th>\n",
       "      <td>ZERO</td>\n",
       "      <td>Drama</td>\n",
       "      <td>Laxman Utekar</td>\n",
       "      <td>Gauri Khan, Red Chillies Entertainment</td>\n",
       "      <td>Shah Rukh Khan, Anushka Sharma, Katrina Kaif</td>\n",
       "      <td></td>\n",
       "      <td>zero drama laxman utekar gauri khan, red chill...</td>\n",
       "    </tr>\n",
       "    <tr>\n",
       "      <th>253</th>\n",
       "      <td>Zindagi Na Milegi Dobara</td>\n",
       "      <td>Drama</td>\n",
       "      <td>Aanand L. Rai</td>\n",
       "      <td>Farhan Akhtar, Ritesh Sidhwani</td>\n",
       "      <td>Hrithik Roshan, Farhan Akhtar, Abhay Deol</td>\n",
       "      <td></td>\n",
       "      <td>zindagi na milegi dobara drama aanand l. rai f...</td>\n",
       "    </tr>\n",
       "    <tr>\n",
       "      <th>254</th>\n",
       "      <td></td>\n",
       "      <td></td>\n",
       "      <td></td>\n",
       "      <td></td>\n",
       "      <td></td>\n",
       "      <td></td>\n",
       "      <td></td>\n",
       "    </tr>\n",
       "    <tr>\n",
       "      <th>255</th>\n",
       "      <td></td>\n",
       "      <td></td>\n",
       "      <td></td>\n",
       "      <td></td>\n",
       "      <td></td>\n",
       "      <td></td>\n",
       "      <td></td>\n",
       "    </tr>\n",
       "    <tr>\n",
       "      <th>256</th>\n",
       "      <td></td>\n",
       "      <td></td>\n",
       "      <td></td>\n",
       "      <td></td>\n",
       "      <td></td>\n",
       "      <td></td>\n",
       "      <td></td>\n",
       "    </tr>\n",
       "  </tbody>\n",
       "</table>\n",
       "<p>257 rows × 7 columns</p>\n",
       "</div>"
      ],
      "text/plain": [
       "                        Title                                   Genre  \\\n",
       "0           Veerey Ki Wedding                                   Drama   \n",
       "1                        1920  Horror, Mystery, Supernatural,Thriller   \n",
       "2                        1921  Horror, Mystery, Supernatural,Thriller   \n",
       "3               Singh Vs Kaur       Romantic Comedy , Action , Drama    \n",
       "4                   12th Fail                           Biographical,   \n",
       "..                        ...                                     ...   \n",
       "252                      ZERO                                   Drama   \n",
       "253  Zindagi Na Milegi Dobara                                   Drama   \n",
       "254                                                                     \n",
       "255                                                                     \n",
       "256                                                                     \n",
       "\n",
       "               Director                                Producer  \\\n",
       "0           Zoya Akhtar                            Rajat Bakshi   \n",
       "1         Vikram Bhatt                            Vikram Bhatt    \n",
       "2         Vikram Bhatt                            Vikram Bhatt    \n",
       "3       Navanjat Singh                          Dheeraj Rattan    \n",
       "4    Vidhu Vinod Chopra                      Vidhu Vinod Chopra   \n",
       "..                  ...                                     ...   \n",
       "252       Laxman Utekar  Gauri Khan, Red Chillies Entertainment   \n",
       "253       Aanand L. Rai          Farhan Akhtar, Ritesh Sidhwani   \n",
       "254                                                               \n",
       "255                                                               \n",
       "256                                                               \n",
       "\n",
       "                                           Actors Release  \\\n",
       "0                  Pulkit Samrat, Kriti Kharbanda           \n",
       "1                    Rajneesh Duggal, Adah Sharma    2008   \n",
       "2                     Zareen Khan , Karan Kundrra    2018   \n",
       "3                    Gippy Grewal,Surveen Chawla     2013   \n",
       "4                   Vikrant Massey , Medha Shankr    2023   \n",
       "..                                            ...     ...   \n",
       "252  Shah Rukh Khan, Anushka Sharma, Katrina Kaif           \n",
       "253     Hrithik Roshan, Farhan Akhtar, Abhay Deol           \n",
       "254                                                         \n",
       "255                                                         \n",
       "256                                                         \n",
       "\n",
       "                                                  tags  \n",
       "0    veerey ki wed drama zoya akhtar rajat bakshi p...  \n",
       "1    1920 horror, mystery, supernatural,thril vikra...  \n",
       "2    1921 horror, mystery, supernatural,thril vikra...  \n",
       "3    singh vs kaur romant comedi , action , drama n...  \n",
       "4    12th fail biographical, vidhu vinod chopra vid...  \n",
       "..                                                 ...  \n",
       "252  zero drama laxman utekar gauri khan, red chill...  \n",
       "253  zindagi na milegi dobara drama aanand l. rai f...  \n",
       "254                                                     \n",
       "255                                                     \n",
       "256                                                     \n",
       "\n",
       "[257 rows x 7 columns]"
      ]
     },
     "execution_count": 70,
     "metadata": {},
     "output_type": "execute_result"
    }
   ],
   "source": [
    "movies\n"
   ]
  },
  {
   "cell_type": "code",
   "execution_count": 71,
   "id": "bb97d60a-1456-40c2-9f96-7990d659b496",
   "metadata": {},
   "outputs": [
    {
     "data": {
      "text/plain": [
       "array(['Veerey Ki Wedding', '1920', '1921', 'Singh Vs Kaur', '12th Fail',\n",
       "       '13 B', '14 Phere', '1920 - London', '2 States', '3 Idiots',\n",
       "       'Action Replayy', 'Airlift', 'Aisha', 'Aiyaary',\n",
       "       'Ajab Prem Ki Gazab Kahani', 'Apne', 'Ardab Muutiyaaaran',\n",
       "       'Article 370', 'Baaghban', 'Baaghi', 'Bachna Ae Haseeno',\n",
       "       'Bajrangi Bhaijaan', 'Bala', 'Band Baja Baraat', 'Bang Bang',\n",
       "       'Barfi', 'Behen Hogi Teri', 'Best of Luck', 'Bhaangarh',\n",
       "       'Bhag Milkha Bhag', 'Bhagat Singh', 'bhool bhulaiya', 'Bhoot',\n",
       "       'Blue', 'Bodyguard', 'Bol Bachchan', 'Border', 'Bulbbul',\n",
       "       'Chak De India', 'Chandigarh Amritsar Chandigarh', 'Cheeni Kum',\n",
       "       'Chhatriwali', 'Chhichhore', 'chhori', 'Cocktail', 'Commando',\n",
       "       'Crew', 'Daana Paani', 'Dabang', 'Daddy Cool Munde Fool', 'Dangal',\n",
       "       'Darbaar', 'De Dana Dan', 'Desi Boyz', 'Dhamaal', 'Dhol', 'Dhoom',\n",
       "       'dhoom 2', 'dhoom 3 .', 'Dil Chahta Hai', 'Dil Dhadakne Do',\n",
       "       'Doctor G', 'Dostana', 'Dosti', 'Dream Girl', 'Dream Girl 2',\n",
       "       'Drishyam', 'Drishyam 2', 'Dum Laga Ke Haisha',\n",
       "       'Ek Main Aur Ek Tu', 'Ek Rishtaa', 'ek tha tiger', 'Ek thi Dayan',\n",
       "       'English Vinglish', 'Fashion', 'Fukrey', 'Fukrey - Returns',\n",
       "       'Gabbar Is Back', 'Galwakdi', 'Gangaajal', 'Ghazi Attack', 'GOLD',\n",
       "       'Golmaal', 'golmaal 3', 'Golmaal Again', 'Golmal 2', 'Grand Masti',\n",
       "       'Gunajn Saxena', 'Happy Phirr Bhag Jaayegi', 'Haseen Dilruba',\n",
       "       'Haseena Parkar', 'Hera Pheri', 'Heyy Babyy', 'Hindi Medium',\n",
       "       'Hit', 'Holiday', 'Honeymoon', 'Houseful', 'Hum Aapke Hain Koun !',\n",
       "       'Hum -Tum', 'Humko Deewana Kar Gaye', 'Humshakals', 'Hungama',\n",
       "       'I Hate Luv Storys', 'Ik Sandhu Hunda Si', 'Indoo Ki Jawani',\n",
       "       \"It's Entertainment\", 'Jaan E Mann', 'Jaane Tu Yaa Jaane Na',\n",
       "       'Jab Tak Hai Jaan', 'Jab We Met', 'Jabariya Jodi', 'Jaddi Sardar',\n",
       "       'Jatt & Julliet', 'Jawaani Jaaneman', 'Jersey', 'Ji Wife Ji',\n",
       "       'Jinne Jamme Saare Nikamme', 'Jodha Akbar', 'Joker', 'Jolly LLB 2',\n",
       "       'Just Married', 'Kabhi Alvida Na Kehna', 'Kabir Singh',\n",
       "       'Kal Ho Na Ho', 'Kala Shah Kala', 'Khandani Shafakhana',\n",
       "       'Khiladi 786', 'kick', 'Kis Kis Ko Pyaar Karoon',\n",
       "       'Kismat Konnection', 'Kites', 'Koi Mil Gaya', 'Kuch Kuch Hota Hai',\n",
       "       'Ladies VS Rickey Bell', 'Lagaan', 'Lage Raho Munna Bhai',\n",
       "       'Love Aaj Kal', 'Luck', 'Lucky Di Unlucky Story',\n",
       "       'Mahi Mera Nikka Jeha', 'Main Vyah Nahi Karona Tere Naal',\n",
       "       'Manje Bistre', 'Mardaani', 'Marriage Palace', 'Mary Kon',\n",
       "       'Mausam', 'MBBS Munna Bhai', 'Meenakshi Sundareshwaram',\n",
       "       'Mera Vyah Kra Do', 'Mere Baap pahele Aap',\n",
       "       'Mere Brother Ki Dulhan', 'MIMI', 'Mission Mangal', 'Mohabbatein',\n",
       "       'MOM', 'Motichoor Chakhnachoor', 'MR and MRS 420', 'MS Dhoni',\n",
       "       'Mubarkaan', 'Mujhse Shaadi Krogi', 'Muklawa',\n",
       "       'Na Tum Jano Na Hum', 'Namaste London', 'New York', 'NH 10',\n",
       "       'Ni Main Sass Kuttni', 'Nikka Zaildar', 'Om Shanti OM',\n",
       "       'Padmaavat', 'Padman', 'Pagalpanti', 'Panga', 'Panipat', 'Pari',\n",
       "       'Partner', 'Patiala House', 'Piku', 'Pink', 'Pink', 'Pizza',\n",
       "       'PM Narendra Modi', 'Poster Boys', 'prem ratan dhan payo',\n",
       "       'Prithviraj Chauhan', 'Puaada', 'pyar ka punchnama 2', 'Queen',\n",
       "       'Raaz', 'Raaz 2', 'raaz 3', 'raaz reboot', 'Rab Da Radio',\n",
       "       'radhe shyam', 'Raduaa', 'Ragini MMS 2', 'Rajneeti',\n",
       "       'Raksha Bandhan', 'Ram Setu', 'Rang De Basanti', 'Ranjhannaa',\n",
       "       'Rashmi Rocket', 'Ready', 'Robot', 'Rocky Mental', 'Rustom',\n",
       "       'Sachin', 'Salaam Namaste', 'Sargi', 'Sass Meri Ne Munda Jameya',\n",
       "       'Satyaprem Ki Katha', 'Saunkan Saunkne', 'Section 375',\n",
       "       'Seeta Raman', 'Shadaa', 'Shaitaan', 'Sharma Ji Ki Lag Gayi',\n",
       "       'Shehzada', 'Shiddat', 'Singh Is King', 'Son Of Sardaar',\n",
       "       'Sonu Ke Titi Ki Sweety', 'Special 26', 'Stree',\n",
       "       'Student Of The Year', 'Student Of The Year 2', 'Sultan',\n",
       "       'Super 30', 'Suraj Pe Mangal Bhari', 'Surkhi Bindi',\n",
       "       'Sweetie Weds NRI', 'Ta Ra Rum Pum', 'Tadka', 'Talaash',\n",
       "       'Tanu Weds Manu', 'Teri Baaton Mein Aisa Uljha Jiya', 'Thappad',\n",
       "       'The Accidental Prime Minister', 'The Conjuring', 'The Exorcism',\n",
       "       'The Kerala Story', 'Toilet', 'Ujda Chaman',\n",
       "       'URI- A Surgical Strike', 'Vivah', 'wanted', 'Waqt', 'Welcome',\n",
       "       'Yaaran Da Katchup', 'Yamla Pagla Deewana',\n",
       "       'Yeh Jawaani Hai Deewani', 'Zara Hatke Zara Bachke', 'ZERO',\n",
       "       'Zindagi Na Milegi Dobara', '', '', ''], dtype=object)"
      ]
     },
     "execution_count": 71,
     "metadata": {},
     "output_type": "execute_result"
    }
   ],
   "source": [
    "movies['Title'].values"
   ]
  },
  {
   "cell_type": "code",
   "execution_count": 73,
   "id": "e338c47c-2ffc-4145-9322-a69b127785ff",
   "metadata": {},
   "outputs": [],
   "source": [
    "pickle.dump(similarity, open('similarity.pkl', 'wb'))\n"
   ]
  },
  {
   "cell_type": "code",
   "execution_count": null,
   "id": "58ed0c53-824b-4a4a-b27f-3e3d3fe40248",
   "metadata": {},
   "outputs": [],
   "source": []
  }
 ],
 "metadata": {
  "kernelspec": {
   "display_name": "Python 3 (ipykernel)",
   "language": "python",
   "name": "python3"
  },
  "language_info": {
   "codemirror_mode": {
    "name": "ipython",
    "version": 3
   },
   "file_extension": ".py",
   "mimetype": "text/x-python",
   "name": "python",
   "nbconvert_exporter": "python",
   "pygments_lexer": "ipython3",
   "version": "3.9.19"
  }
 },
 "nbformat": 4,
 "nbformat_minor": 5
}
